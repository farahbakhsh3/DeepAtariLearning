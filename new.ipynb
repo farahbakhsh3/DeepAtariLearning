{
  "nbformat": 4,
  "nbformat_minor": 0,
  "metadata": {
    "colab": {
      "name": "Hello, Colaboratory",
      "version": "0.3.2",
      "provenance": [],
      "collapsed_sections": [],
      "toc_visible": true,
      "include_colab_link": true
    },
    "kernelspec": {
      "name": "python3",
      "display_name": "Python 3"
    },
    "accelerator": "GPU"
  },
  "cells": [
    {
      "cell_type": "markdown",
      "metadata": {
        "id": "view-in-github",
        "colab_type": "text"
      },
      "source": [
        "<a href=\"https://colab.research.google.com/github/farahbakhsh3/DeepAtariLearning/blob/master/new.ipynb\" target=\"_parent\"><img src=\"https://colab.research.google.com/assets/colab-badge.svg\" alt=\"Open In Colab\"/></a>"
      ]
    },
    {
      "metadata": {
        "id": "L5w19DhuOvoc",
        "colab_type": "code",
        "colab": {
          "base_uri": "https://localhost:8080/",
          "height": 768
        },
        "outputId": "7c4b6270-7b28-4b7d-8dc4-8ac8c941da8e"
      },
      "cell_type": "code",
      "source": [
        "!wget https://www.dropbox.com/s/nxz7aqtmsiusezd/atari.rar\n",
        "!apt install unrar\n",
        "!unrar x -r atari.rar\n"
      ],
      "execution_count": 2,
      "outputs": [
        {
          "output_type": "stream",
          "text": [
            "--2018-10-30 13:50:16--  https://www.dropbox.com/s/nxz7aqtmsiusezd/atari.rar\n",
            "Resolving www.dropbox.com (www.dropbox.com)... 162.125.82.1, 2620:100:6032:1::a27d:5201\n",
            "Connecting to www.dropbox.com (www.dropbox.com)|162.125.82.1|:443... connected.\n",
            "HTTP request sent, awaiting response... 301 Moved Permanently\n",
            "Location: /s/raw/nxz7aqtmsiusezd/atari.rar [following]\n",
            "--2018-10-30 13:50:16--  https://www.dropbox.com/s/raw/nxz7aqtmsiusezd/atari.rar\n",
            "Reusing existing connection to www.dropbox.com:443.\n",
            "HTTP request sent, awaiting response... 302 Found\n",
            "Location: https://uc95c8aa2c12549abb75bf7517f0.dl.dropboxusercontent.com/cd/0/inline/AUUjkym8oE2O2ecVhGHHniBY4WZHTdFsUKBOjM7d9CV4_t6YTXzMTRjmqsSzY6MyPdAswSMJ5-h9DleEY5oSfqH8HfHycxXrJlmYNfA_r6GQwemRQLDCUiGOjUNWfrG0Kyp603zFcyEop1TdaWod8oTqXdPzthLw9S3qJcNmB0U2vN9erAmGO5cYYBvES2Fte7U/file [following]\n",
            "--2018-10-30 13:50:16--  https://uc95c8aa2c12549abb75bf7517f0.dl.dropboxusercontent.com/cd/0/inline/AUUjkym8oE2O2ecVhGHHniBY4WZHTdFsUKBOjM7d9CV4_t6YTXzMTRjmqsSzY6MyPdAswSMJ5-h9DleEY5oSfqH8HfHycxXrJlmYNfA_r6GQwemRQLDCUiGOjUNWfrG0Kyp603zFcyEop1TdaWod8oTqXdPzthLw9S3qJcNmB0U2vN9erAmGO5cYYBvES2Fte7U/file\n",
            "Resolving uc95c8aa2c12549abb75bf7517f0.dl.dropboxusercontent.com (uc95c8aa2c12549abb75bf7517f0.dl.dropboxusercontent.com)... 162.125.82.6, 2620:100:6032:6::a27d:5206\n",
            "Connecting to uc95c8aa2c12549abb75bf7517f0.dl.dropboxusercontent.com (uc95c8aa2c12549abb75bf7517f0.dl.dropboxusercontent.com)|162.125.82.6|:443... connected.\n",
            "HTTP request sent, awaiting response... 302 FOUND\n",
            "Location: /cd/0/inline2/AUXlaDgkgQtUiHGlPDFc6H_wYQ38iYlf5SrC77M2PkwKNzwsQ4VZBFsrkLF24uc1EqMrTo5BOW6MNhzfBofjufoXivfEiHQxOWVcsTvGmqEFmmpWO8lG2eWVDjdGv0rs2nbSmLPOJwVODBGr2sBSiPyEGJH5cxkMJ_RXzcpLwytQ2nra3CofCsT4hGQM_kVQAE9HOtsrIoHz_71hm2-A7lIaNi9y0IYImtadVAtjMl89WFSe15O3uk4_VY6W8rsKf_Ji8wgME0kyUSkSjYrRHhy4uWEcR0t4PB9z3jZL6rsUFQkJCxps4_cXaKyokXuaVFUo6MQnSAgNyFrMV_sCxSzVJDx3wRJMynyVsv17cGDpnZLuGMnjTayRox8nWLdRuUp53jhOwyHBCleg6SisDANaOzYOhjNtsLe_hRKE6U1NtAmv2y-DjTfvONFkTTqVV-Y/file [following]\n",
            "--2018-10-30 13:50:17--  https://uc95c8aa2c12549abb75bf7517f0.dl.dropboxusercontent.com/cd/0/inline2/AUXlaDgkgQtUiHGlPDFc6H_wYQ38iYlf5SrC77M2PkwKNzwsQ4VZBFsrkLF24uc1EqMrTo5BOW6MNhzfBofjufoXivfEiHQxOWVcsTvGmqEFmmpWO8lG2eWVDjdGv0rs2nbSmLPOJwVODBGr2sBSiPyEGJH5cxkMJ_RXzcpLwytQ2nra3CofCsT4hGQM_kVQAE9HOtsrIoHz_71hm2-A7lIaNi9y0IYImtadVAtjMl89WFSe15O3uk4_VY6W8rsKf_Ji8wgME0kyUSkSjYrRHhy4uWEcR0t4PB9z3jZL6rsUFQkJCxps4_cXaKyokXuaVFUo6MQnSAgNyFrMV_sCxSzVJDx3wRJMynyVsv17cGDpnZLuGMnjTayRox8nWLdRuUp53jhOwyHBCleg6SisDANaOzYOhjNtsLe_hRKE6U1NtAmv2y-DjTfvONFkTTqVV-Y/file\n",
            "Reusing existing connection to uc95c8aa2c12549abb75bf7517f0.dl.dropboxusercontent.com:443.\n",
            "HTTP request sent, awaiting response... 200 OK\n",
            "Length: 8865393 (8.5M) [application/rar]\n",
            "Saving to: ‘atari.rar.1’\n",
            "\n",
            "atari.rar.1         100%[===================>]   8.45M  4.57MB/s    in 1.9s    \n",
            "\n",
            "2018-10-30 13:50:20 (4.57 MB/s) - ‘atari.rar.1’ saved [8865393/8865393]\n",
            "\n",
            "Reading package lists... Done\n",
            "Building dependency tree       \n",
            "Reading state information... Done\n",
            "unrar is already the newest version (1:5.5.8-1).\n",
            "0 upgraded, 0 newly installed, 0 to remove and 2 not upgraded.\n",
            "\n",
            "UNRAR 5.50 freeware      Copyright (c) 1993-2017 Alexander Roshal\n",
            "\n",
            "\n",
            "Extracting from atari.rar\n",
            "\n",
            "Extracting  1.py                                                         \b\b\b\b  0%\b\b\b\b\b  OK \n",
            "Extracting  action_keys.py                                               \b\b\b\b  0%\b\b\b\b\b  OK \n",
            "Extracting  play.py                                                      \b\b\b\b  0%\b\b\b\b\b  OK \n",
            "Extracting  prepare.py                                                   \b\b\b\b  0%\b\b\b\b\b  OK \n",
            "Extracting  train.py                                                     \b\b\b\b  0%\b\b\b\b\b  OK \n",
            "Extracting  X.npy                                                        \b\b\b\b 47%\b\b\b\b 94%\b\b\b\b 99%\b\b\b\b\b  OK \n",
            "Extracting  Y.npy                                                        \b\b\b\b 99%\b\b\b\b\b  OK \n",
            "All OK\n"
          ],
          "name": "stdout"
        }
      ]
    },
    {
      "metadata": {
        "id": "I04o0pwCPFZM",
        "colab_type": "code",
        "colab": {
          "base_uri": "https://localhost:8080/",
          "height": 161
        },
        "outputId": "851a2620-efe7-42b6-aa14-88b2571d74e1"
      },
      "cell_type": "code",
      "source": [
        "#!/usr/bin/env python\n",
        "import numpy as np\n",
        "from keras.models import Sequential\n",
        "from keras.layers import Dense, Dropout, Flatten\n",
        "from keras.layers import Conv2D, ConvLSTM2D, MaxPool2D\n",
        "from keras.layers import BatchNormalization\n",
        "from keras.utils import to_categorical\n",
        "from keras.callbacks import ModelCheckpoint\n",
        "from prepare import Sample, model_def\n",
        "import matplotlib.pyplot as plt\n",
        "\n",
        "\n",
        "def create_model_ConvLSTM2D(INPUT_SHAPE, OUT_SHAPE, dropout_prob=0.5):\n",
        "    \n",
        "    model = Sequential()\n",
        "\n",
        "    model.add(ConvLSTM2D(32, kernel_size=(3, 3), padding='same', \n",
        "                            activation='relu', return_sequences=True, input_shape=INPUT_SHAPE))\n",
        "    model.add(ConvLSTM2D(32, kernel_size=(3, 3), padding='same', \n",
        "                            activation='relu', return_sequences=True, strides=(2, 2)))\n",
        "    # model.add(MaxPool2D(pool_size=(2, 2)))\n",
        "    model.add(Dropout(dropout_prob))\n",
        "\n",
        "    model.add(ConvLSTM2D(64, kernel_size=(3, 3), padding='same', \n",
        "                            activation='relu', return_sequences=True))\n",
        "    model.add(ConvLSTM2D(64, kernel_size=(3, 3), padding='same', \n",
        "                            activation='relu', return_sequences=True, strides=(2, 2)))\n",
        "    # model.add(MaxPool2D(pool_size=(2, 2)))\n",
        "    model.add(Dropout(dropout_prob))\n",
        "\n",
        "    model.add(ConvLSTM2D(128, kernel_size=(3, 3), padding='same',  \n",
        "                            activation='relu', return_sequences=True))\n",
        "    model.add(ConvLSTM2D(128, kernel_size=(3, 3), padding='same', \n",
        "                            activation='relu', strides=(2, 2)))\n",
        "    # model.add(MaxPool2D(pool_size=(2, 2)))\n",
        "    model.add(Dropout(dropout_prob))\n",
        "\n",
        "    model.add(Flatten())\n",
        "\n",
        "    model.add(Dense(512, activation='relu'))\n",
        "    model.add(Dropout(dropout_prob))\n",
        "    model.add(Dense(OUT_SHAPE, activation='softmax'))\n",
        "    print(model.summary())\n",
        "\n",
        "    return model\n",
        "\n",
        "\n",
        "def create_model_Conv2D(INPUT_SHAPE, OUT_SHAPE, dropout_prob=0.5):\n",
        "\n",
        "    model = Sequential()\n",
        "    \n",
        "    model.add(Conv2D(32, kernel_size=(3, 3), padding='same', \n",
        "                        activation='relu', input_shape=INPUT_SHAPE))\n",
        "    model.add(Conv2D(32, kernel_size=(3, 3), padding='same', \n",
        "                        activation='relu'))\n",
        "    model.add(MaxPool2D(pool_size=(2, 2)))\n",
        "    model.add(Dropout(dropout_prob))\n",
        "\n",
        "    model.add(Conv2D(64, kernel_size=(3, 3), padding='same', \n",
        "                        activation='relu'))\n",
        "    model.add(Conv2D(64, kernel_size=(3, 3), padding='same', \n",
        "                        activation='relu'))\n",
        "    model.add(MaxPool2D(pool_size=(2, 2)))\n",
        "    model.add(Dropout(dropout_prob))\n",
        "\n",
        "    model.add(Conv2D(128, kernel_size=(3, 3), padding='same', \n",
        "                        activation='relu'))\n",
        "    model.add(Conv2D(128, kernel_size=(3, 3), padding='same', \n",
        "                        activation='relu'))\n",
        "    model.add(MaxPool2D(pool_size=(2, 2)))\n",
        "    model.add(Dropout(dropout_prob))\n",
        "\n",
        "    model.add(Flatten())\n",
        "    \n",
        "    model.add(Dense(512, activation='relu'))\n",
        "    model.add(Dropout(dropout_prob))\n",
        "    model.add(Dense(OUT_SHAPE, activation='softmax'))\n",
        "    \n",
        "    print(model.summary())\n",
        "    \n",
        "    return model\n",
        "\n",
        "def convert_data_to_series(x_train, y_train, window_size):\n",
        "    x_ = []\n",
        "    for i in range(x_train.shape[0] - window_size):\n",
        "        x_.append(x_train[i:i + window_size])\n",
        "    x_train = np.array(x_)\n",
        "    y_train = y_train[:x_train.shape[0]]\n",
        "\n",
        "    return x_train, y_train\n",
        "\n",
        "\n",
        "if __name__ == '__main__':\n",
        "\n",
        "    _model_def = model_def()\n",
        "    x_train = np.load(\"X.npy\")\n",
        "    y_train = np.load(\"Y.npy\")\n",
        "    y_train = to_categorical(y_train, num_classes=_model_def.OUT_SHAPE)\n",
        "\n",
        "    epochs = 50\n",
        "    batch_size = 128\n",
        "\n",
        "    if _model_def.model == 'Conv2D':\n",
        "        model = create_model_Conv2D(_model_def.INPUT_SHAPE, _model_def.OUT_SHAPE)\n",
        "    elif _model_def.model == 'ConvLSTM2D':\n",
        "        x_train, y_train = convert_data_to_series(x_train[:100], y_train[:100], 15)\n",
        "        model = create_model_ConvLSTM2D(_model_def.INPUT_SHAPE, _model_def.OUT_SHAPE)\n",
        "\n",
        "    print('X_Train Shape: ', x_train.shape)\n",
        "    print('Y_Train Shape: ', y_train.shape)\n",
        "    print('---------------------------')\n",
        "    \n",
        "    if input('Train from zero: <z>  ,  Retrain by load prev weights: <r>  ::   ') == 'r':\n",
        "        model.load_weights(_model_def.weights_file)\n",
        "        print('Model weights loaded : ', _model_def.weights_file) \n",
        "    else:\n",
        "        print('Train from zero.')\n",
        "    print('---------------------------')\n",
        "        \n",
        "    chekpoint = ModelCheckpoint(filepath=_model_def.weights_file, \n",
        "                                monitor='val_acc', \n",
        "                                save_best_only=True, \n",
        "                                save_weights_only=True, \n",
        "                                verbose=True)\n",
        "    \n",
        "    model.compile(loss='categorical_crossentropy', \n",
        "                    optimizer='adam', \n",
        "                    metrics=['accuracy'])\n",
        "    \n",
        "    history = model.fit(x_train, y_train, \n",
        "                        batch_size=batch_size, \n",
        "                        epochs=epochs, \n",
        "                        shuffle=True, \n",
        "                        validation_split=0.05, \n",
        "                        callbacks=[chekpoint])\n",
        "\n",
        "    # model.save_weights(_model_def.weights_file)\n",
        "    print('Best weights saved. ', _model_def.weights_file)\n",
        "    print('---------------------------')\n",
        "\n",
        "\n",
        "    history_dict = history.history\n",
        "    loss_value = history_dict['acc']\n",
        "    val_loss_value = history_dict['val_acc']\n",
        "    epoches = range(1,len(loss_value) + 1)\n",
        "\n",
        "    plt.plot(epoches, loss_value, 'bo', label='Traning accuracy')\n",
        "    plt.plot(epoches, val_loss_value, 'b', label='Validation accuracy')\n",
        "    plt.title('Training and Validation accuracy')\n",
        "    plt.xlabel('Epoches')\n",
        "    plt.ylabel('Accuracy')\n",
        "    plt.legend()\n",
        "    plt.show()"
      ],
      "execution_count": 0,
      "outputs": [
        {
          "output_type": "stream",
          "text": [
            "1: Boxing\n",
            "2: RiverRaid\n",
            "3: Enduro\n",
            "4: SeaQuest\n",
            "5: Tennis\n",
            "6: SpaceInvaders\n"
          ],
          "name": "stdout"
        }
      ]
    },
    {
      "metadata": {
        "id": "F6sU6V6oP0VT",
        "colab_type": "code",
        "colab": {
          "base_uri": "https://localhost:8080/",
          "height": 34
        },
        "outputId": "a3e0ade2-daa4-4e84-f72a-1ed4be526a18"
      },
      "cell_type": "code",
      "source": [
        "x_train.shape"
      ],
      "execution_count": 2,
      "outputs": [
        {
          "output_type": "execute_result",
          "data": {
            "text/plain": [
              "(100, 5, 80, 3)"
            ]
          },
          "metadata": {
            "tags": []
          },
          "execution_count": 2
        }
      ]
    },
    {
      "metadata": {
        "id": "Bqua0e1hTasa",
        "colab_type": "code",
        "colab": {}
      },
      "cell_type": "code",
      "source": [
        ""
      ],
      "execution_count": 0,
      "outputs": []
    }
  ]
}